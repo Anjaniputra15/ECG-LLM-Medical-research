{
 "cells": [
  {
   "cell_type": "markdown",
   "metadata": {},
   "source": [
    "# ECG Data Exploration\n",
    "\n",
    "This notebook demonstrates how to explore and visualize ECG datasets for the ECG-LLM project.\n",
    "\n",
    "## Contents\n",
    "1. Load ECG datasets\n",
    "2. Explore signal characteristics\n",
    "3. Visualize ECG waveforms\n",
    "4. Analyze data quality\n",
    "5. Statistical analysis"
   ]
  },
  {
   "cell_type": "code",
   "execution_count": null,
   "metadata": {},
   "outputs": [],
   "source": [
    "import sys\n",
    "sys.path.append('..')\n",
    "\n",
    "import numpy as np\n",
    "import pandas as pd\n",
    "import matplotlib.pyplot as plt\n",
    "import seaborn as sns\n",
    "from pathlib import Path\n",
    "\n",
    "from src.utils.data_loader import ECGDataLoader\n",
    "from src.utils.visualization import ECGVisualizer\n",
    "from src.preprocessing.signal_filter import ECGFilter\n",
    "\n",
    "# Set up plotting\n",
    "plt.style.use('seaborn-v0_8')\n",
    "sns.set_palette('husl')\n",
    "%matplotlib inline"
   ]
  },
  {
   "cell_type": "markdown",
   "metadata": {},
   "source": [
    "## 1. Load ECG Dataset\n",
    "\n",
    "First, let's load a sample ECG dataset and explore its structure."
   ]
  },
  {
   "cell_type": "code",
   "execution_count": null,
   "metadata": {},
   "outputs": [],
   "source": [
    "# Initialize data loader\n",
    "data_path = Path('../data/raw/ptb-xl')\n",
    "loader = ECGDataLoader(data_path)\n",
    "\n",
    "# Get dataset information\n",
    "dataset_info = loader.get_dataset_info()\n",
    "print(f\"Dataset Info: {dataset_info}\")"
   ]
  },
  {
   "cell_type": "code",
   "execution_count": null,
   "metadata": {},
   "outputs": [],
   "source": [
    "# Load sample data (or use synthetic data for demonstration)\n",
    "# For demonstration, we'll create synthetic ECG data\n",
    "\n",
    "def create_synthetic_ecg(length=5000, sampling_rate=500, leads=12):\n",
    "    \"\"\"Create synthetic ECG data for demonstration.\"\"\"\n",
    "    t = np.linspace(0, length/sampling_rate, length)\n",
    "    ecg_data = np.zeros((length, leads))\n",
    "    \n",
    "    for lead in range(leads):\n",
    "        # Simple ECG-like waveform\n",
    "        baseline = 0.1 * np.sin(2 * np.pi * 0.5 * t)  # Baseline wander\n",
    "        qrs = 0.8 * np.sin(2 * np.pi * 1.2 * t) * np.exp(-5 * (t % 0.8)**2)  # QRS complex\n",
    "        noise = 0.05 * np.random.normal(0, 1, length)  # Noise\n",
    "        \n",
    "        ecg_data[:, lead] = baseline + qrs + noise\n",
    "    \n",
    "    return ecg_data, t\n",
    "\n",
    "# Generate synthetic data\n",
    "ecg_signal, time_axis = create_synthetic_ecg()\n",
    "print(f\"ECG Signal Shape: {ecg_signal.shape}\")"
   ]
  },
  {
   "cell_type": "markdown",
   "metadata": {},
   "source": [
    "## 2. Signal Characteristics"
   ]
  },
  {
   "cell_type": "code",
   "execution_count": null,
   "metadata": {},
   "outputs": [],
   "source": [
    "# Analyze signal characteristics\n",
    "print(f\"Signal duration: {len(ecg_signal)/500:.2f} seconds\")\n",
    "print(f\"Number of leads: {ecg_signal.shape[1]}\")\n",
    "print(f\"Sampling rate: 500 Hz\")\n",
    "print(f\"Signal range: {np.min(ecg_signal):.3f} to {np.max(ecg_signal):.3f}\")\n",
    "print(f\"Signal mean: {np.mean(ecg_signal):.3f}\")\n",
    "print(f\"Signal std: {np.std(ecg_signal):.3f}\")"
   ]
  },
  {
   "cell_type": "markdown",
   "metadata": {},
   "source": [
    "## 3. ECG Visualization"
   ]
  },
  {
   "cell_type": "code",
   "execution_count": null,
   "metadata": {},
   "outputs": [],
   "source": [
    "# Plot first few leads\n",
    "fig, axes = plt.subplots(3, 1, figsize=(15, 10))\n",
    "\n",
    "lead_names = ['Lead I', 'Lead II', 'Lead III']\n",
    "\n",
    "for i in range(3):\n",
    "    axes[i].plot(time_axis[:2000], ecg_signal[:2000, i], linewidth=1)\n",
    "    axes[i].set_title(f'{lead_names[i]}')\n",
    "    axes[i].set_xlabel('Time (s)')\n",
    "    axes[i].set_ylabel('Amplitude (mV)')\n",
    "    axes[i].grid(True, alpha=0.3)\n",
    "\n",
    "plt.tight_layout()\n",
    "plt.show()"
   ]
  },
  {
   "cell_type": "code",
   "execution_count": null,
   "metadata": {},
   "outputs": [],
   "source": [
    "# 12-lead ECG visualization\n",
    "fig, axes = plt.subplots(4, 3, figsize=(20, 15))\n",
    "axes = axes.flatten()\n",
    "\n",
    "lead_names = ['I', 'II', 'III', 'aVR', 'aVL', 'aVF', 'V1', 'V2', 'V3', 'V4', 'V5', 'V6']\n",
    "\n",
    "for i in range(12):\n",
    "    axes[i].plot(time_axis[:2000], ecg_signal[:2000, i], 'b-', linewidth=0.8)\n",
    "    axes[i].set_title(f'Lead {lead_names[i]}')\n",
    "    axes[i].set_xlabel('Time (s)')\n",
    "    axes[i].set_ylabel('Amplitude (mV)')\n",
    "    axes[i].grid(True, alpha=0.3)\n",
    "\n",
    "plt.tight_layout()\n",
    "plt.show()"
   ]
  },
  {
   "cell_type": "markdown",
   "metadata": {},
   "source": [
    "## 4. Signal Quality Analysis"
   ]
  },
  {
   "cell_type": "code",
   "execution_count": null,
   "metadata": {},
   "outputs": [],
   "source": [
    "# Analyze signal quality\n",
    "filter_obj = ECGFilter(sampling_rate=500)\n",
    "quality_metrics = filter_obj.get_signal_quality(ecg_signal)\n",
    "\n",
    "print(\"Signal Quality Metrics:\")\n",
    "for lead_name, metrics in quality_metrics['leads'].items():\n",
    "    print(f\"{lead_name}: SNR = {metrics['snr_db']:.2f} dB, Range = {metrics['amplitude_range']:.3f}\")\n",
    "\n",
    "print(f\"\\nOverall SNR: {quality_metrics['overall_snr_db']:.2f} dB\")"
   ]
  },
  {
   "cell_type": "markdown",
   "metadata": {},
   "source": [
    "## 5. Statistical Analysis"
   ]
  },
  {
   "cell_type": "code",
   "execution_count": null,
   "metadata": {},
   "outputs": [],
   "source": [
    "# Statistical analysis of ECG signals\n",
    "stats_df = pd.DataFrame({\n",
    "    'Lead': [f'Lead_{i}' for i in range(12)],\n",
    "    'Mean': [np.mean(ecg_signal[:, i]) for i in range(12)],\n",
    "    'Std': [np.std(ecg_signal[:, i]) for i in range(12)],\n",
    "    'Min': [np.min(ecg_signal[:, i]) for i in range(12)],\n",
    "    'Max': [np.max(ecg_signal[:, i]) for i in range(12)],\n",
    "    'Range': [np.ptp(ecg_signal[:, i]) for i in range(12)]\n",
    "})\n",
    "\n",
    "print(\"Statistical Summary:\")\n",
    "print(stats_df.round(4))"
   ]
  },
  {
   "cell_type": "code",
   "execution_count": null,
   "metadata": {},
   "outputs": [],
   "source": [
    "# Correlation analysis\n",
    "correlation_matrix = np.corrcoef(ecg_signal.T)\n",
    "\n",
    "plt.figure(figsize=(12, 10))\n",
    "sns.heatmap(correlation_matrix, \n",
    "            annot=True, \n",
    "            cmap='coolwarm', \n",
    "            center=0,\n",
    "            xticklabels=lead_names,\n",
    "            yticklabels=lead_names)\n",
    "plt.title('ECG Lead Correlation Matrix')\n",
    "plt.tight_layout()\n",
    "plt.show()"
   ]
  },
  {
   "cell_type": "markdown",
   "metadata": {},
   "source": [
    "## 6. Frequency Domain Analysis"
   ]
  },
  {
   "cell_type": "code",
   "execution_count": null,
   "metadata": {},
   "outputs": [],
   "source": [
    "# Frequency domain analysis\n",
    "from scipy.fft import fft, fftfreq\n",
    "\n",
    "# Analyze Lead II\n",
    "lead_ii = ecg_signal[:, 1]\n",
    "\n",
    "# Compute FFT\n",
    "fft_vals = fft(lead_ii)\n",
    "freqs = fftfreq(len(lead_ii), 1/500)\n",
    "\n",
    "# Plot frequency spectrum\n",
    "plt.figure(figsize=(15, 6))\n",
    "\n",
    "plt.subplot(1, 2, 1)\n",
    "plt.plot(time_axis[:2000], lead_ii[:2000])\n",
    "plt.title('Lead II - Time Domain')\n",
    "plt.xlabel('Time (s)')\n",
    "plt.ylabel('Amplitude (mV)')\n",
    "plt.grid(True, alpha=0.3)\n",
    "\n",
    "plt.subplot(1, 2, 2)\n",
    "plt.plot(freqs[:len(freqs)//2], np.abs(fft_vals[:len(fft_vals)//2]))\n",
    "plt.title('Lead II - Frequency Domain')\n",
    "plt.xlabel('Frequency (Hz)')\n",
    "plt.ylabel('Magnitude')\n",
    "plt.xlim(0, 100)\n",
    "plt.grid(True, alpha=0.3)\n",
    "\n",
    "plt.tight_layout()\n",
    "plt.show()"
   ]
  },
  {
   "cell_type": "markdown",
   "metadata": {},
   "source": [
    "## Conclusion\n",
    "\n",
    "This notebook demonstrated basic ECG data exploration including:\n",
    "- Loading and visualizing ECG signals\n",
    "- Analyzing signal quality metrics\n",
    "- Statistical analysis of leads\n",
    "- Frequency domain analysis\n",
    "\n",
    "Next steps:\n",
    "1. Preprocessing and filtering (notebook 02)\n",
    "2. Signal encoding experiments (notebook 03)\n",
    "3. Model training and evaluation (notebooks 04-05)"
   ]
  }
 ],
 "metadata": {
  "kernelspec": {
   "display_name": "Python 3",
   "language": "python",
   "name": "python3"
  },
  "language_info": {
   "codemirror_mode": {
    "name": "ipython",
    "version": 3
   },
   "file_extension": ".py",
   "mimetype": "text/x-python",
   "name": "python",
   "nbconvert_exporter": "python",
   "pygments_lexer": "ipython3",
   "version": "3.8.10"
  }
 },
 "nbformat": 4,
 "nbformat_minor": 4
}